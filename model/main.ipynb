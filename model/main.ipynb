{
 "cells": [
  {
   "cell_type": "code",
   "execution_count": 1,
   "metadata": {},
   "outputs": [
    {
     "data": {
      "text/plain": [
       "(1419, 17)"
      ]
     },
     "execution_count": 1,
     "metadata": {},
     "output_type": "execute_result"
    }
   ],
   "source": [
    "import pandas as pd\n",
    "\n",
    "# Load the CSV file\n",
    "df = pd.read_csv(r'C:\\codeverse\\EatWell\\dataset\\scraped_data.csv')\n",
    "df.head()\n",
    "df.columns\n",
    "df.shape"
   ]
  },
  {
   "cell_type": "code",
   "execution_count": 6,
   "metadata": {},
   "outputs": [
    {
     "name": "stdout",
     "output_type": "stream",
     "text": [
      "name                 0\n",
      "category             0\n",
      "quantity             0\n",
      "Protein             31\n",
      "Carbohydrates       31\n",
      "Sugar              539\n",
      "Fat                 31\n",
      "Fiber               31\n",
      "Sodium              31\n",
      "nutrition_data       0\n",
      "nutrient_grade     390\n",
      "ingredients        709\n",
      "allergen          1040\n",
      "additives          820\n",
      "mod_nutrients      938\n",
      "bad_nutrients      711\n",
      "good_nutrients     978\n",
      "dtype: int64\n"
     ]
    }
   ],
   "source": [
    "print((df == \"Not available\").sum())\n"
   ]
  },
  {
   "cell_type": "code",
   "execution_count": null,
   "metadata": {},
   "outputs": [],
   "source": []
  },
  {
   "cell_type": "code",
   "execution_count": null,
   "metadata": {},
   "outputs": [
    {
     "name": "stdout",
     "output_type": "stream",
     "text": [
      "name                0\n",
      "category            0\n",
      "quantity          504\n",
      "Protein             0\n",
      "Carbohydrates       0\n",
      "Sugar               0\n",
      "Fat                 0\n",
      "Fiber               0\n",
      "Sodium              0\n",
      "nutrition_data      0\n",
      "nutrient_grade      0\n",
      "ingredients         0\n",
      "allergen            0\n",
      "additives           0\n",
      "mod_nutrients       0\n",
      "bad_nutrients       0\n",
      "good_nutrients      0\n",
      "dtype: int64\n"
     ]
    }
   ],
   "source": [
    "df.isna()\n"
   ]
  }
 ],
 "metadata": {
  "kernelspec": {
   "display_name": "Python 3",
   "language": "python",
   "name": "python3"
  },
  "language_info": {
   "codemirror_mode": {
    "name": "ipython",
    "version": 3
   },
   "file_extension": ".py",
   "mimetype": "text/x-python",
   "name": "python",
   "nbconvert_exporter": "python",
   "pygments_lexer": "ipython3",
   "version": "3.10.6"
  }
 },
 "nbformat": 4,
 "nbformat_minor": 2
}
